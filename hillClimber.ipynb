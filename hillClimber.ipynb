{
 "cells": [
  {
   "cell_type": "code",
   "execution_count": 1,
   "metadata": {},
   "outputs": [],
   "source": [
    "import numpy as np\n",
    "import matplotlib.pyplot as plt\n",
    "import random\n",
    "\n",
    "# All the beneficial values and the volume of each of the items \n",
    "itemArray = [[5,3],[6,2],[1,4],[9,5],[2,8],[8,9],[4,10],[3,1],[7,6],[10,7]]\n",
    "# Reminder itemArray[i][j] = i = the index of each item, j = 0 (beneficial values) and j = 1 (volume)"
   ]
  },
  {
   "cell_type": "code",
   "execution_count": 2,
   "metadata": {},
   "outputs": [
    {
     "name": "stdout",
     "output_type": "stream",
     "text": [
      "Genotype: show the items in the knapsack [1, 0, 0, 1, 1, 1, 0, 0, 1, 0]\n"
     ]
    }
   ],
   "source": [
    "def generateGenotype():\n",
    "    # Generate either 0 or 1\n",
    "    randomGen = random.randint(0, 1)\n",
    "    genotype = []\n",
    "    i = 0\n",
    "    \n",
    "    # Assigning the genotype with either 1 or 0 (either if item is knapsack or not)\n",
    "    while i < 10:\n",
    "        randomGen = random.randint(0, 1)\n",
    "        genotype.append(randomGen)\n",
    "        i += 1\n",
    "    return genotype\n",
    "\n",
    "genotype = generateGenotype()\n",
    "print(\"Genotype: show the items in the knapsack\", genotype)"
   ]
  },
  {
   "cell_type": "code",
   "execution_count": 3,
   "metadata": {},
   "outputs": [
    {
     "name": "stdout",
     "output_type": "stream",
     "text": [
      "The beneficial value with the given knapsack: 31\n",
      "Capacity of all the items: 31\n"
     ]
    }
   ],
   "source": [
    "# Fitness function to calculate the fitness of the given genotype \n",
    "def fitness(geno):\n",
    "    # indexItems initialise to -1 so it can allign with the itemArray\n",
    "    itemIndex = -1\n",
    "    beneficialVal = 0\n",
    "    volumeVal = 0\n",
    "    \n",
    "    for items in geno:\n",
    "        itemIndex += 1\n",
    "        # Find all the items present in the knapsack and find the beneficial values and also the volume associated with it\n",
    "        if items == 1:\n",
    "            # Calculate all the beneficial values and also the volumes present in the knapsack\n",
    "            beneficialVal += itemArray[itemIndex][0]\n",
    "            volumeVal += itemArray[itemIndex][1]\n",
    "    return beneficialVal, volumeVal\n",
    "\n",
    "benefit,capacity = fitness(genotype)\n",
    "print(\"The beneficial value with the given knapsack:\",benefit)\n",
    "print(\"Capacity of all the items:\",capacity)"
   ]
  },
  {
   "cell_type": "code",
   "execution_count": 17,
   "metadata": {},
   "outputs": [
    {
     "name": "stdout",
     "output_type": "stream",
     "text": [
      "The beneficial value with the given knapsack: 15\n",
      "Capacity of all the items: 15\n",
      "[0, 0, 0, 0, 0, 1, 0, 0, 1, 0]\n"
     ]
    }
   ],
   "source": [
    "# Fitness function to calculate the fitness of the given genotype (Create a new genotype if the capacity of all the items > 20) \n",
    "def fitnessModify(geno):\n",
    "    # indexItems initialise to -1 so it can allign with the itemArray\n",
    "    itemIndex = -1\n",
    "    beneficialVal = 0\n",
    "    volumeVal = 0\n",
    "    # Ensure that the generated genotype is within the capacity constraint\n",
    "    invalid = 0\n",
    "    \n",
    "    while invalid == 0:\n",
    "        if volumeVal <= 20 and volumeVal != 0:\n",
    "            invalid = 1\n",
    "            # Return a genotype thats within the constraint and its beneficial value as well as the capacity it will take\n",
    "            return geno,beneficialVal, volumeVal\n",
    "        else:\n",
    "            itemIndex = -1\n",
    "            beneficialVal = 0\n",
    "            volumeVal = 0\n",
    "            # Generate a new genotype due to invalid capacity\n",
    "            geno = generateGenotype()\n",
    "            \n",
    "\n",
    "        # See which items is in and not in the knapsack   \n",
    "        for items in geno:\n",
    "            itemIndex += 1\n",
    "            # Find all the items present in the knapsack and find the beneficial values and also the volume associated with it\n",
    "            if items == 1:\n",
    "                # Calculate all the beneficial values and also the volumes present in the knapsack\n",
    "                beneficialVal += itemArray[itemIndex][0]\n",
    "                volumeVal += itemArray[itemIndex][1]\n",
    "\n",
    "genotype,benefit,capacity = fitnessModify(genotype)\n",
    "print(\"The beneficial value with the given knapsack:\",benefit)\n",
    "print(\"Capacity of all the items:\",capacity)\n",
    "print(genotype)"
   ]
  },
  {
   "cell_type": "code",
   "execution_count": 5,
   "metadata": {},
   "outputs": [
    {
     "name": "stdout",
     "output_type": "stream",
     "text": [
      "Genotype: [1, 1, 1, 0, 0, 0, 1, 1, 0, 0]\n",
      "Mutated Genotype: [1, 1, 1, 1, 0, 0, 1, 1, 0, 0]\n"
     ]
    }
   ],
   "source": [
    "# Mutation function to mutate the genotype by the given mutation rate\n",
    "def mutation(geno, mutationRate):\n",
    "    # Copy genotype into a temp genotype\n",
    "    mutatedGeno = geno.copy()\n",
    "    mutationIter = 0\n",
    "    # Calculate the mutation rate (rounded down)\n",
    "    rate = int(len(geno) * mutationRate)\n",
    "\n",
    "    while mutationIter != rate:\n",
    "        # Generate a unique itemIndex\n",
    "        itemIndex = np.random.choice(np.arange(len(geno)), replace=False)\n",
    "        # Assign the item to be in the knapsack (could already be in the sack already)\n",
    "        mutatedGeno[itemIndex] = 1\n",
    "        mutationIter += 1\n",
    "    return mutatedGeno\n",
    "\n",
    "mutatedGeno = mutation(genotype, 0.3)\n",
    "print(\"Genotype:\", genotype)\n",
    "print(\"Mutated Genotype:\", mutatedGeno)"
   ]
  },
  {
   "cell_type": "code",
   "execution_count": 6,
   "metadata": {},
   "outputs": [
    {
     "name": "stdout",
     "output_type": "stream",
     "text": [
      "Genotype: [1, 1, 1, 0, 0, 0, 1, 1, 0, 0]\n",
      "Mutated Genotype: [1, 0, 1, 0, 0, 1, 1, 1, 0, 1]\n"
     ]
    }
   ],
   "source": [
    "# Modify mutation function to mutate the genotype by the given mutation rate (item always changes)\n",
    "def mutationModify(geno, mutationRate):\n",
    "    # Copy genotype into a temp genotype\n",
    "    mutatedGeno = geno.copy()\n",
    "    mutationIter = 0\n",
    "    # Calculate the mutation rate (rounded down)\n",
    "    rate = int(len(geno) * mutationRate)\n",
    "\n",
    "    while mutationIter != rate:\n",
    "        # Generate a unique itemIndex\n",
    "        itemIndex = np.random.choice(np.arange(len(geno)), replace=False)\n",
    "        # If items is already in knapsack, take it out else add it in\n",
    "        if geno[itemIndex] == 1:\n",
    "            mutatedGeno[itemIndex] = 0\n",
    "            mutationIter += 1\n",
    "        else:\n",
    "            mutatedGeno[itemIndex] = 1\n",
    "            mutationIter += 1\n",
    "    return mutatedGeno\n",
    "\n",
    "mutatedGeno = mutationModify(genotype, 0.3)\n",
    "print(\"Genotype:\", genotype)\n",
    "print(\"Mutated Genotype:\", mutatedGeno)"
   ]
  },
  {
   "cell_type": "code",
   "execution_count": 18,
   "metadata": {},
   "outputs": [
    {
     "data": {
      "image/png": "[encoded data removed]",
      "text/plain": [
       "<Figure size 432x288 with 1 Axes>"
      ]
     },
     "metadata": {
      "needs_background": "light"
     },
     "output_type": "display_data"
    },
    {
     "name": "stdout",
     "output_type": "stream",
     "text": [
      "Currently the best genotype: [1, 1, 0, 0, 0, 1, 0, 0, 1, 0]\n",
      "With a beneficial value of 26 and with a capacity of 20\n"
     ]
    }
   ],
   "source": [
    "# hillClimber function which uses the mutation fucntion (each 'gene' has a chance to mutate)\n",
    "def hillClimber(geno0, geno1, mutationRate, iteration):\n",
    "    # Original genotype\n",
    "    benefit1,volumn1 = fitness(geno0)\n",
    "    # Mutated genotype\n",
    "    benefit2,volumn2 = fitness(geno1)\n",
    "    # Our x-axis for our graph (time iteration)\n",
    "    timeIteration = []\n",
    "    # # Our y-axis for our graph (best fitness of each iteration)\n",
    "    fitnessOverTime = []\n",
    "    i = 1\n",
    "    # Knapsack has a capacity of 20\n",
    "    knapsackCapacity = 20\n",
    "    \n",
    "    while i != iteration+1:\n",
    "        timeIteration.append(i)\n",
    "        # Check if the mutation genotype is within the capacity contraint\n",
    "        if volumn2 <= knapsackCapacity:\n",
    "            # Check if the mutation genotype has a greater fitness compared with original genotype\n",
    "            if benefit2 > benefit1:\n",
    "                fitnessOverTime.append(benefit2)\n",
    "                # If mutated genotype is better, assigned that to the original genotype\n",
    "                geno0 = geno1\n",
    "            else:\n",
    "                fitnessOverTime.append(benefit1)\n",
    "        else:\n",
    "            fitnessOverTime.append(benefit1)\n",
    "        i += 1\n",
    "        # Selected gene will have a chance to mutate (have a chance to flip)\n",
    "        geno1 = mutation(geno0, mutationRate)\n",
    "        benefit1,volumn1 = fitness(geno0)\n",
    "        benefit2,volumn2 = fitness(geno1)\n",
    "   \n",
    "    plt.plot(timeIteration,fitnessOverTime)\n",
    "    plt.xlabel ('Iterations')\n",
    "    plt.ylabel ('Fitness score')\n",
    "    plt.show()\n",
    "    print(\"Currently the best genotype:\", geno0)\n",
    "    print(\"With a beneficial value of {} and with a capacity of {}\" .format(benefit1,volumn1))\n",
    "hillClimber(genotype,mutatedGeno,0.1,100)"
   ]
  },
  {
   "cell_type": "code",
   "execution_count": 19,
   "metadata": {},
   "outputs": [
    {
     "data": {
      "image/png": "[encoded data removed]",
      "text/plain": [
       "<Figure size 432x288 with 1 Axes>"
      ]
     },
     "metadata": {
      "needs_background": "light"
     },
     "output_type": "display_data"
    },
    {
     "name": "stdout",
     "output_type": "stream",
     "text": [
      "Currently the best genotype: [0, 0, 1, 0, 0, 1, 0, 1, 1, 0]\n",
      "With a beneficial value of 19 and with a capacity of 20\n"
     ]
    }
   ],
   "source": [
    "# hillClimberModify function which uses the mutation modify fucntion (each 'gene' selected will mutate)\n",
    "def hillClimberModify(geno0, geno1, mutationRate, iteration):\n",
    "    # Original genotype\n",
    "    benefit1,volumn1 = fitness(geno0)\n",
    "    # Mutated genotype\n",
    "    benefit2,volumn2 = fitness(geno1)\n",
    "    # Our x-axis for our graph (time iteration)\n",
    "    timeIteration = []\n",
    "    # # Our y-axis for our graph (best fitness of each iteration)\n",
    "    fitnessOverTime = []\n",
    "    i = 1\n",
    "    # Knapsack has a capacity of 20\n",
    "    knapsackCapacity = 20\n",
    "    \n",
    "    while i != iteration+1:\n",
    "        timeIteration.append(i)\n",
    "        # Check if the mutation genotype is within the capacity contraint\n",
    "        if volumn2 <= knapsackCapacity:\n",
    "            # Check if the mutation genotype has a greater fitness compared with original genotype\n",
    "            if benefit2 > benefit1:\n",
    "                fitnessOverTime.append(benefit2)\n",
    "                # If mutated genotype is better, assigned that to the original genotype\n",
    "                geno0 = geno1\n",
    "            else:\n",
    "                fitnessOverTime.append(benefit1)\n",
    "        else:\n",
    "            fitnessOverTime.append(benefit1)\n",
    "        i += 1\n",
    "        # Selected gene will always mutate (flip)\n",
    "        geno1 = mutationModify(geno0, mutationRate)\n",
    "        benefit1,volumn1 = fitness(geno0)\n",
    "        benefit2,volumn2 = fitness(geno1)\n",
    "   \n",
    "    plt.plot(timeIteration,fitnessOverTime)\n",
    "    plt.xlabel ('Iterations')\n",
    "    plt.ylabel ('Fitness score')\n",
    "    plt.show()\n",
    "    print(\"Currently the best genotype:\", geno0)\n",
    "    print(\"With a beneficial value of {} and with a capacity of {}\" .format(benefit1,volumn1))\n",
    "hillClimberModify(genotype,mutatedGeno,0.1,100)"
   ]
  },
  {
   "cell_type": "code",
   "execution_count": 9,
   "metadata": {},
   "outputs": [
    {
     "data": {
      "image/png": "[encoded data removed]",
      "text/plain": [
       "<Figure size 432x288 with 1 Axes>"
      ]
     },
     "metadata": {
      "needs_background": "light"
     },
     "output_type": "display_data"
    },
    {
     "name": "stdout",
     "output_type": "stream",
     "text": [
      "Currently the best genotype: [0, 0, 0, 1, 0, 1, 0, 0, 1, 0]\n",
      "With a beneficial value of 24 and with a capacity of 20\n"
     ]
    }
   ],
   "source": [
    "# Experiment with a low mutation rate (0.1) and each gene has a chance to flip (mutate)\n",
    "# random.seed is used to ensure all experiment is as control as possible\n",
    "random.seed(2)\n",
    "genoLowRand = generateGenotype()\n",
    "random.seed(2)\n",
    "genotypeLR,benefitLR,capacityLR = fitnessModify(genoLowRand)\n",
    "random.seed(2)\n",
    "mutateLowRand = mutation(genotypeLR, 0.1)\n",
    "random.seed(2)\n",
    "hillClimber(genotypeLR,mutateLowRand,0.1,10)"
   ]
  },
  {
   "cell_type": "code",
   "execution_count": 10,
   "metadata": {},
   "outputs": [
    {
     "data": {
      "image/png": "[encoded data removed]",
      "text/plain": [
       "<Figure size 432x288 with 1 Axes>"
      ]
     },
     "metadata": {
      "needs_background": "light"
     },
     "output_type": "display_data"
    },
    {
     "name": "stdout",
     "output_type": "stream",
     "text": [
      "Currently the best genotype: [1, 0, 0, 0, 0, 1, 0, 1, 1, 0]\n",
      "With a beneficial value of 23 and with a capacity of 19\n"
     ]
    }
   ],
   "source": [
    "# Experiment with a low mutation rate (0.1) and each gene will mutate if selected\n",
    "random.seed(2)\n",
    "genoLowMutate = generateGenotype()\n",
    "random.seed(2)\n",
    "genotypeLM,benefitLM,capacityLM = fitnessModify(genoLowMutate)\n",
    "random.seed(2)\n",
    "mutateLowMutate = mutationModify(genotypeLM, 0.1)\n",
    "random.seed(2)\n",
    "hillClimberModify(genotypeLM,mutateLowMutate,0.1,10)"
   ]
  },
  {
   "cell_type": "code",
   "execution_count": 11,
   "metadata": {},
   "outputs": [
    {
     "data": {
      "image/png": "[encoded data removed]",
      "text/plain": [
       "<Figure size 432x288 with 1 Axes>"
      ]
     },
     "metadata": {
      "needs_background": "light"
     },
     "output_type": "display_data"
    },
    {
     "name": "stdout",
     "output_type": "stream",
     "text": [
      "Currently the best genotype: [0, 0, 0, 0, 0, 1, 0, 0, 1, 0]\n",
      "With a beneficial value of 15 and with a capacity of 15\n"
     ]
    }
   ],
   "source": [
    "# Experiment with a high mutation rate (0.8) and each gene has a chance to flip (mutate)\n",
    "random.seed(2)\n",
    "genoHighRand = generateGenotype()\n",
    "random.seed(2)\n",
    "genotypeHR,benefitHR,capacityHR = fitnessModify(genoHighRand)\n",
    "random.seed(2)\n",
    "mutateHighRand = mutation(genotypeHR, 0.8)\n",
    "random.seed(2)\n",
    "hillClimber(genotypeHR,mutateHighRand,0.8,10)"
   ]
  },
  {
   "cell_type": "code",
   "execution_count": 12,
   "metadata": {},
   "outputs": [
    {
     "data": {
      "image/png": "[encoded data removed]",
      "text/plain": [
       "<Figure size 432x288 with 1 Axes>"
      ]
     },
     "metadata": {
      "needs_background": "light"
     },
     "output_type": "display_data"
    },
    {
     "name": "stdout",
     "output_type": "stream",
     "text": [
      "Currently the best genotype: [1, 1, 0, 0, 1, 0, 0, 1, 1, 0]\n",
      "With a beneficial value of 23 and with a capacity of 20\n"
     ]
    }
   ],
   "source": [
    "# Experiment with a high mutation rate (0.8) and each gene will mutate if selected\n",
    "random.seed(2)\n",
    "genoHighMutate = generateGenotype()\n",
    "random.seed(2)\n",
    "genotypeHM,benefitHM,capacityHM = fitnessModify(genoHighMutate)\n",
    "random.seed(2)\n",
    "mutateHighMutate = mutationModify(genotypeHM, 0.8)\n",
    "random.seed(2)\n",
    "hillClimberModify(genotypeHM,mutateHighMutate,0.8,10)"
   ]
  },
  {
   "cell_type": "code",
   "execution_count": 13,
   "metadata": {},
   "outputs": [
    {
     "data": {
      "image/png": "[encoded data removed]",
      "text/plain": [
       "<Figure size 432x288 with 1 Axes>"
      ]
     },
     "metadata": {
      "needs_background": "light"
     },
     "output_type": "display_data"
    },
    {
     "name": "stdout",
     "output_type": "stream",
     "text": [
      "Currently the best genotype: [0, 0, 0, 1, 0, 1, 0, 0, 1, 0]\n",
      "With a beneficial value of 24 and with a capacity of 20\n"
     ]
    }
   ],
   "source": [
    "# Experiment with a average mutation rate (0.4) and each gene has a chance to flip (mutate)\n",
    "random.seed(2)\n",
    "genoAverageRand = generateGenotype()\n",
    "random.seed(2)\n",
    "genotypeAR,benefitAR,capacityAR = fitnessModify(genoAverageRand)\n",
    "random.seed(2)\n",
    "mutateAverageRand = mutation(genotypeAR, 0.4)\n",
    "random.seed(2)\n",
    "hillClimber(genotypeAR,mutateAverageRand,0.4,10)"
   ]
  },
  {
   "cell_type": "code",
   "execution_count": 14,
   "metadata": {},
   "outputs": [
    {
     "data": {
      "image/png": "[encoded data removed]",
      "text/plain": [
       "<Figure size 432x288 with 1 Axes>"
      ]
     },
     "metadata": {
      "needs_background": "light"
     },
     "output_type": "display_data"
    },
    {
     "name": "stdout",
     "output_type": "stream",
     "text": [
      "Currently the best genotype: [1, 0, 1, 1, 0, 0, 0, 0, 1, 0]\n",
      "With a beneficial value of 22 and with a capacity of 18\n"
     ]
    }
   ],
   "source": [
    "# Experiment with a average mutation rate (0.4) and each gene will mutate if selected\n",
    "random.seed(2)\n",
    "genoAverageMutate = generateGenotype()\n",
    "random.seed(2)\n",
    "genotypeAM,benefitAM,capacityAM = fitnessModify(genoAverageMutate)\n",
    "random.seed(2)\n",
    "mutateAverageMutate = mutationModify(genotypeAM, 0.4)\n",
    "random.seed(2)\n",
    "hillClimberModify(genotypeAM,mutateAverageMutate,0.4,10)"
   ]
  },
  {
   "cell_type": "code",
   "execution_count": null,
   "metadata": {},
   "outputs": [],
   "source": [
    "# Demonstrating that a local minima exist but not a globally optimal solution\n"
   ]
  }
 ],
 "metadata": {
  "kernelspec": {
   "display_name": "Python 3",
   "language": "python",
   "name": "python3"
  },
  "language_info": {
   "codemirror_mode": {
    "name": "ipython",
    "version": 3
   },
   "file_extension": ".py",
   "mimetype": "text/x-python",
   "name": "python",
   "nbconvert_exporter": "python",
   "pygments_lexer": "ipython3",
   "version": "3.7.3"
  }
 },
 "nbformat": 4,
 "nbformat_minor": 2
}
